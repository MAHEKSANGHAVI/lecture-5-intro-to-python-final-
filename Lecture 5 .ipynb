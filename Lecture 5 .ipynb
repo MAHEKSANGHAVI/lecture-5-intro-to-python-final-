{
 "cells": [
  {
   "cell_type": "markdown",
   "id": "7df5a82d",
   "metadata": {},
   "source": [
    "# Lecture 5: Intro to Python\n",
    "- *Student Name:* Mahek Sanghavi\n",
    "- *Division:* C\n"
   ]
  },
  {
   "cell_type": "code",
   "execution_count": 1,
   "id": "04f85e3d",
   "metadata": {},
   "outputs": [
    {
     "data": {
      "text/plain": [
       "'Mahek Sanghavi'"
      ]
     },
     "execution_count": 1,
     "metadata": {},
     "output_type": "execute_result"
    }
   ],
   "source": [
    "# String Data type\n",
    "student_name = \"Mahek Sanghavi\"\n",
    "student_name"
   ]
  },
  {
   "cell_type": "code",
   "execution_count": 2,
   "id": "80f1bbaf",
   "metadata": {},
   "outputs": [
    {
     "data": {
      "text/plain": [
       "19"
      ]
     },
     "execution_count": 2,
     "metadata": {},
     "output_type": "execute_result"
    }
   ],
   "source": [
    "# Numeric Data type\n",
    "student_age = 19\n",
    "student_age"
   ]
  },
  {
   "cell_type": "code",
   "execution_count": 8,
   "id": "f524c351",
   "metadata": {},
   "outputs": [],
   "source": [
    "#Create two variables to store the age of your parents\n",
    "mother_age = 43\n",
    "father_age = 47"
   ]
  },
  {
   "cell_type": "code",
   "execution_count": 10,
   "id": "350983a3",
   "metadata": {},
   "outputs": [
    {
     "data": {
      "text/plain": [
       "36.333333333333336"
      ]
     },
     "execution_count": 10,
     "metadata": {},
     "output_type": "execute_result"
    }
   ],
   "source": [
    "# Create and print the average age of your family\n",
    "average_age = (student_age + mother_age+father_age)/3\n",
    "average_age"
   ]
  },
  {
   "cell_type": "code",
   "execution_count": 13,
   "id": "dc68f94d",
   "metadata": {},
   "outputs": [
    {
     "data": {
      "text/plain": [
       "'Our FamiLy Average Age is 36.333333333333336'"
      ]
     },
     "execution_count": 13,
     "metadata": {},
     "output_type": "execute_result"
    }
   ],
   "source": [
    "# Average Aga sentence\n",
    "sentence = \"Our FamiLy Average Age is \"  + str (average_age)\n",
    "sentence"
   ]
  },
  {
   "cell_type": "code",
   "execution_count": 15,
   "id": "6b8e7fb8",
   "metadata": {},
   "outputs": [
    {
     "data": {
      "text/plain": [
       "False"
      ]
     },
     "execution_count": 15,
     "metadata": {},
     "output_type": "execute_result"
    }
   ],
   "source": [
    "is_mother_older = mother_age > father_age\n",
    "is_mother_older"
   ]
  },
  {
   "cell_type": "code",
   "execution_count": 16,
   "id": "4402aee8",
   "metadata": {},
   "outputs": [
    {
     "data": {
      "text/plain": [
       "True"
      ]
     },
     "execution_count": 16,
     "metadata": {},
     "output_type": "execute_result"
    }
   ],
   "source": [
    "is_father_older = father_age > mother_age\n",
    "is_father_older"
   ]
  },
  {
   "cell_type": "code",
   "execution_count": 19,
   "id": "bea4b296",
   "metadata": {},
   "outputs": [
    {
     "data": {
      "text/plain": [
       "False"
      ]
     },
     "execution_count": 19,
     "metadata": {},
     "output_type": "execute_result"
    }
   ],
   "source": [
    "is_same_age = mother_age == father_age\n",
    "is_same_age"
   ]
  },
  {
   "cell_type": "markdown",
   "id": "a6604eca",
   "metadata": {},
   "source": [
    "# Lists\n"
   ]
  },
  {
   "cell_type": "code",
   "execution_count": 22,
   "id": "c32d473e",
   "metadata": {},
   "outputs": [
    {
     "data": {
      "text/plain": [
       "[0, 32, 50, 34, 90]"
      ]
     },
     "execution_count": 22,
     "metadata": {},
     "output_type": "execute_result"
    }
   ],
   "source": [
    "# List of Virat Kohli's scores\n",
    "vk_scores = [0, 32, 50, 34, 90]\n",
    "vk_scores\n"
   ]
  },
  {
   "cell_type": "code",
   "execution_count": 31,
   "id": "31c86189",
   "metadata": {},
   "outputs": [
    {
     "data": {
      "text/plain": [
       "['To All The boys', 'End Game', 'Dil Dhadakne Do']"
      ]
     },
     "execution_count": 31,
     "metadata": {},
     "output_type": "execute_result"
    }
   ],
   "source": [
    "# Make a variable that stores a list of Your Favorite Movies\n",
    "favorite_movies = [\"To All The boys\", \"End Game\", \"Dil Dhadakne Do\" ]\n",
    "favorite_movies\n"
   ]
  },
  {
   "cell_type": "code",
   "execution_count": 32,
   "id": "f5930156",
   "metadata": {},
   "outputs": [
    {
     "data": {
      "text/plain": [
       "'To All The boys'"
      ]
     },
     "execution_count": 32,
     "metadata": {},
     "output_type": "execute_result"
    }
   ],
   "source": [
    "# First Value\n",
    "favorite_movies[0]"
   ]
  },
  {
   "cell_type": "code",
   "execution_count": 33,
   "id": "b3163f1c",
   "metadata": {},
   "outputs": [
    {
     "data": {
      "text/plain": [
       "'End Game'"
      ]
     },
     "execution_count": 33,
     "metadata": {},
     "output_type": "execute_result"
    }
   ],
   "source": [
    "# Second Value\n",
    "favorite_movies[1]"
   ]
  },
  {
   "cell_type": "code",
   "execution_count": 34,
   "id": "769d9a12",
   "metadata": {},
   "outputs": [
    {
     "data": {
      "text/plain": [
       "'Dil Dhadakne Do'"
      ]
     },
     "execution_count": 34,
     "metadata": {},
     "output_type": "execute_result"
    }
   ],
   "source": [
    "# Last Value\n",
    "favorite_movies[-1]"
   ]
  },
  {
   "cell_type": "code",
   "execution_count": 35,
   "id": "a6e10366",
   "metadata": {},
   "outputs": [
    {
     "data": {
      "text/plain": [
       "'End Game'"
      ]
     },
     "execution_count": 35,
     "metadata": {},
     "output_type": "execute_result"
    }
   ],
   "source": [
    "# Second Last Value\n",
    "favorite_movies[-2]"
   ]
  },
  {
   "cell_type": "code",
   "execution_count": 36,
   "id": "d4e46ba6",
   "metadata": {},
   "outputs": [
    {
     "data": {
      "text/plain": [
       "['To All The boys', 'End Game', 'Dil Dhadakne Do', 'Housefull 2']"
      ]
     },
     "execution_count": 36,
     "metadata": {},
     "output_type": "execute_result"
    }
   ],
   "source": [
    "# Add a value to a list\n",
    "favorite_movies.append (\"Housefull 2\")\n",
    "favorite_movies"
   ]
  },
  {
   "cell_type": "code",
   "execution_count": 37,
   "id": "4e8c2540",
   "metadata": {},
   "outputs": [
    {
     "data": {
      "text/plain": [
       "['End Game', 'Dil Dhadakne Do', 'Housefull 2']"
      ]
     },
     "execution_count": 37,
     "metadata": {},
     "output_type": "execute_result"
    }
   ],
   "source": [
    "# Remove a value from a list\n",
    "favorite_movies.remove (\"To All The boys\")\n",
    "favorite_movies"
   ]
  },
  {
   "cell_type": "code",
   "execution_count": 38,
   "id": "28406082",
   "metadata": {},
   "outputs": [
    {
     "data": {
      "text/plain": [
       "0"
      ]
     },
     "execution_count": 38,
     "metadata": {},
     "output_type": "execute_result"
    }
   ],
   "source": [
    "# Index of \"End Game\" in the list\n",
    "favorite_movies.index(\"End Game\")"
   ]
  },
  {
   "cell_type": "code",
   "execution_count": 40,
   "id": "af6e257a",
   "metadata": {},
   "outputs": [
    {
     "data": {
      "text/plain": [
       "3"
      ]
     },
     "execution_count": 40,
     "metadata": {},
     "output_type": "execute_result"
    }
   ],
   "source": [
    "#Total Values in a list\n",
    "total_favorite_movies = len (favorite_movies)\n",
    "total_favorite_movies"
   ]
  },
  {
   "cell_type": "code",
   "execution_count": null,
   "id": "801fb061",
   "metadata": {},
   "outputs": [],
   "source": []
  }
 ],
 "metadata": {
  "kernelspec": {
   "display_name": "Python 3",
   "language": "python",
   "name": "python3"
  },
  "language_info": {
   "codemirror_mode": {
    "name": "ipython",
    "version": 3
   },
   "file_extension": ".py",
   "mimetype": "text/x-python",
   "name": "python",
   "nbconvert_exporter": "python",
   "pygments_lexer": "ipython3",
   "version": "3.8.8"
  }
 },
 "nbformat": 4,
 "nbformat_minor": 5
}
